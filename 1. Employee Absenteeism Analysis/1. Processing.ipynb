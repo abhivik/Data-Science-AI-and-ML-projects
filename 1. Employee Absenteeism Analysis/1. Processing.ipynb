{
 "cells": [
  {
   "cell_type": "markdown",
   "id": "7e7fa4cf",
   "metadata": {},
   "source": [
    "# Project: Absenteeism Analysis\n",
    "### To determine for how many working hours a person presenting certain characteristics is expected to be away from work at certain point in time or not."
   ]
  },
  {
   "cell_type": "markdown",
   "id": "0b392e8f",
   "metadata": {},
   "source": [
    "#### Importing pandas library"
   ]
  },
  {
   "cell_type": "code",
   "execution_count": null,
   "id": "ab730576",
   "metadata": {},
   "outputs": [],
   "source": [
    "import pandas as pd"
   ]
  },
  {
   "cell_type": "markdown",
   "id": "393f243b",
   "metadata": {},
   "source": [
    "#### Reading the data\n",
    "#### Since our data is in .csv extension, we'll use the followin format\n",
    "#### Format: dataframe = pd.read_csv(\"data_file_name.csv\")\n",
    "##### Note: 'dataframe' is a name we chose. We can name it anything. It is used to store the data extracted from the main data file which can be later used for data related operations. "
   ]
  },
  {
   "cell_type": "code",
   "execution_count": null,
   "id": "d6906f1e",
   "metadata": {},
   "outputs": [],
   "source": [
    "data = pd.read_csv(\"Absenteeism_data.csv\")\n",
    "data"
   ]
  },
  {
   "cell_type": "markdown",
   "id": "758f0ee2",
   "metadata": {},
   "source": [
    "#### Let's say if we want to see the first five or first ten rows, then we can use the 'head' function.\n",
    "#### Format: dataframe.head(Number of rows to display)"
   ]
  },
  {
   "cell_type": "code",
   "execution_count": null,
   "id": "b7cddfd9",
   "metadata": {},
   "outputs": [],
   "source": [
    "data.head(5)"
   ]
  },
  {
   "cell_type": "markdown",
   "id": "314e33cf",
   "metadata": {},
   "source": [
    "#### Similarly, let's say if we want to see the last five or last ten rows, then we can use the 'tail' function.\n",
    "#### Format: dataframe.tail(Number of rows to display)"
   ]
  },
  {
   "cell_type": "code",
   "execution_count": null,
   "id": "3ccf67fb",
   "metadata": {},
   "outputs": [],
   "source": [
    "data.tail(5)"
   ]
  },
  {
   "cell_type": "markdown",
   "id": "c36be416",
   "metadata": {},
   "source": [
    "#### When the data is very long, Jupyter will not show the entire data, but only a part of it, as seen above. This can be in terms of both, rows and columns. There are some cases where you would want to see all the data, for that you can use the 'max' function.\n",
    "#### Format for columns: pd.options.display.max_columns = # #\n",
    "#### Format for rows: pd.options.display.max_rows = # # \n",
    "##### # is the number of rows and columns that you want to be displayed. It can be any number. Incase you want to see all, type 'None'. "
   ]
  },
  {
   "cell_type": "code",
   "execution_count": null,
   "id": "88802fa1",
   "metadata": {},
   "outputs": [],
   "source": [
    "pd.options.display.max_columns = None\n",
    "pd.options.display.max_rows = None\n",
    "display(data)"
   ]
  },
  {
   "cell_type": "markdown",
   "id": "eac4584f",
   "metadata": {},
   "source": [
    "#### When the dataset is very large, as what we have here, and if we want to check for any missing values, we can check any missing values by generating a summary of the dataframe. This can be done by applying 'info' method dorectly to the dataframe.\n",
    "#### Format: dataframe.info()"
   ]
  },
  {
   "cell_type": "code",
   "execution_count": null,
   "id": "c651a7e3",
   "metadata": {},
   "outputs": [],
   "source": [
    "data.info()"
   ]
  },
  {
   "cell_type": "markdown",
   "id": "0172ec3d",
   "metadata": {},
   "source": [
    "#### Drop 'ID'\n",
    "#### Format: dataframe.drop(['List of column names we want to get rid of'])"
   ]
  },
  {
   "cell_type": "code",
   "execution_count": null,
   "id": "e5e80859",
   "metadata": {},
   "outputs": [],
   "source": [
    "data = data.drop(['ID'],axis = 1)\n",
    "data"
   ]
  },
  {
   "cell_type": "markdown",
   "id": "8e5eeede",
   "metadata": {},
   "source": [
    "#### Analysing 'Reason for Absence' column.\n",
    "#### Format: dataframe['Column_name']"
   ]
  },
  {
   "cell_type": "code",
   "execution_count": null,
   "id": "9bd0b727",
   "metadata": {},
   "outputs": [],
   "source": [
    "data['Reason for Absence']"
   ]
  },
  {
   "cell_type": "code",
   "execution_count": null,
   "id": "5e84d40e",
   "metadata": {},
   "outputs": [],
   "source": [
    "data['Reason for Absence'].min()"
   ]
  },
  {
   "cell_type": "code",
   "execution_count": null,
   "id": "4476b8ee",
   "metadata": {},
   "outputs": [],
   "source": [
    "data['Reason for Absence'].max()"
   ]
  },
  {
   "cell_type": "code",
   "execution_count": null,
   "id": "9c56e170",
   "metadata": {},
   "outputs": [],
   "source": [
    "data['Reason for Absence'].unique()"
   ]
  },
  {
   "cell_type": "code",
   "execution_count": null,
   "id": "b9be10e3",
   "metadata": {},
   "outputs": [],
   "source": [
    "len(data['Reason for Absence'].unique())"
   ]
  },
  {
   "cell_type": "code",
   "execution_count": null,
   "id": "214bf413",
   "metadata": {},
   "outputs": [],
   "source": [
    "sorted(data['Reason for Absence'].unique())"
   ]
  },
  {
   "cell_type": "markdown",
   "id": "86e83c28",
   "metadata": {},
   "source": [
    "#### Creating dummies for 'Reason for Absence' column.\n",
    "#### Format: reason_column = pd.get_dummies(dataframe['column_name'])"
   ]
  },
  {
   "cell_type": "code",
   "execution_count": null,
   "id": "c6f0e9d6",
   "metadata": {},
   "outputs": [],
   "source": [
    "reason_columns = pd.get_dummies(data['Reason for Absence'], dtype = int)\n",
    "reason_columns"
   ]
  },
  {
   "cell_type": "markdown",
   "id": "67dbace5",
   "metadata": {},
   "source": [
    "#### #### To check if there are any missing values in the rows. To do that, we'll create a new column with sum of the values. If the sum of rows is 1. then the value is present. If the sum is 0, then value is absent. Note: axis = 1"
   ]
  },
  {
   "cell_type": "code",
   "execution_count": null,
   "id": "1927d12a",
   "metadata": {},
   "outputs": [],
   "source": [
    "reason_columns['check'] =reason_columns.sum(axis = 1)\n",
    "reason_columns"
   ]
  },
  {
   "cell_type": "markdown",
   "id": "cfa57a83",
   "metadata": {},
   "source": [
    "#### To check if there are any missing values in the check column, we'll do a vertical sum. Note: axis = 0"
   ]
  },
  {
   "cell_type": "code",
   "execution_count": null,
   "id": "26ec667d",
   "metadata": {},
   "outputs": [],
   "source": [
    "reason_columns['check'].sum(axis = 0)"
   ]
  },
  {
   "cell_type": "code",
   "execution_count": null,
   "id": "ff4645d3",
   "metadata": {},
   "outputs": [],
   "source": [
    "reason_columns['check'].unique()"
   ]
  },
  {
   "cell_type": "markdown",
   "id": "4ad41125",
   "metadata": {},
   "source": [
    "#### Since we have checked all the values are present, and the content is unique, we can drop the check column."
   ]
  },
  {
   "cell_type": "code",
   "execution_count": null,
   "id": "e8de426b",
   "metadata": {},
   "outputs": [],
   "source": [
    "reason_columns = reason_columns.drop(['check'], axis = 1)"
   ]
  },
  {
   "cell_type": "code",
   "execution_count": null,
   "id": "a8c0ba52",
   "metadata": {},
   "outputs": [],
   "source": [
    "reason_columns"
   ]
  },
  {
   "cell_type": "code",
   "execution_count": null,
   "id": "573ca293",
   "metadata": {},
   "outputs": [],
   "source": [
    "reason_columns = pd.get_dummies(data['Reason for Absence'], drop_first = True, dtype = int)\n",
    "reason_columns"
   ]
  },
  {
   "cell_type": "markdown",
   "id": "3429234c",
   "metadata": {},
   "source": [
    "#### Group the Reasons for Absence"
   ]
  },
  {
   "cell_type": "code",
   "execution_count": null,
   "id": "a3772d7c",
   "metadata": {},
   "outputs": [],
   "source": [
    "data.columns.values"
   ]
  },
  {
   "cell_type": "code",
   "execution_count": null,
   "id": "13b7cb83",
   "metadata": {},
   "outputs": [],
   "source": [
    "reason_columns.columns.values"
   ]
  },
  {
   "cell_type": "code",
   "execution_count": null,
   "id": "877dbf73",
   "metadata": {},
   "outputs": [],
   "source": [
    "data = data.drop(['Reason for Absence'], axis = 1)\n",
    "data"
   ]
  },
  {
   "cell_type": "code",
   "execution_count": null,
   "id": "920dadd6",
   "metadata": {},
   "outputs": [],
   "source": [
    "reason_columns.loc[:, 1:14]"
   ]
  },
  {
   "cell_type": "code",
   "execution_count": null,
   "id": "d9deecd7",
   "metadata": {},
   "outputs": [],
   "source": [
    "reason_columns.loc[:,15:17]"
   ]
  },
  {
   "cell_type": "code",
   "execution_count": null,
   "id": "497debb5",
   "metadata": {},
   "outputs": [],
   "source": [
    "reason_columns.loc[:,18:21]"
   ]
  },
  {
   "cell_type": "code",
   "execution_count": null,
   "id": "c6efcef6",
   "metadata": {},
   "outputs": [],
   "source": [
    "reason_columns.loc[:,22:28]"
   ]
  },
  {
   "cell_type": "code",
   "execution_count": null,
   "id": "52796e9a",
   "metadata": {},
   "outputs": [],
   "source": [
    "reason_type_1 = reason_columns.loc[:,1:14].max(axis = 1)\n",
    "reason_type_2 = reason_columns.loc[:,15:17].max(axis = 1)\n",
    "reason_type_3 = reason_columns.loc[:,18:21].max(axis = 1)\n",
    "reason_type_4 = reason_columns.loc[:,22:].max(axis = 1)"
   ]
  },
  {
   "cell_type": "code",
   "execution_count": null,
   "id": "718e0f21",
   "metadata": {},
   "outputs": [],
   "source": [
    "data"
   ]
  },
  {
   "cell_type": "markdown",
   "id": "c9f619ac",
   "metadata": {},
   "source": [
    "#### Concatenate column values\n",
    "#### Format: dataframe = pd.concat([dataframe, table_1, table_2, ...], axis = 1)"
   ]
  },
  {
   "cell_type": "code",
   "execution_count": null,
   "id": "aeb06225",
   "metadata": {},
   "outputs": [],
   "source": [
    "data = pd.concat([data, reason_type_1, reason_type_2, reason_type_3, reason_type_4], axis = 1)\n",
    "data"
   ]
  },
  {
   "cell_type": "code",
   "execution_count": null,
   "id": "7c82316a",
   "metadata": {},
   "outputs": [],
   "source": [
    "data.columns.values"
   ]
  },
  {
   "cell_type": "code",
   "execution_count": null,
   "id": "562aa8b0",
   "metadata": {},
   "outputs": [],
   "source": [
    "column_names = ['Date', 'Transportation Expense', 'Distance to Work', 'Age',\n",
    "       'Daily Work Load Average', 'Body Mass Index', 'Education',\n",
    "       'Children', 'Pets', 'Absenteeism Time in Hours', 'Reason_1', 'Reason_2', 'Reason_3', 'Reason_4']"
   ]
  },
  {
   "cell_type": "code",
   "execution_count": null,
   "id": "84269bc3",
   "metadata": {},
   "outputs": [],
   "source": [
    "data.columns = column_names\n",
    "data"
   ]
  },
  {
   "cell_type": "code",
   "execution_count": null,
   "id": "f9bf6076",
   "metadata": {},
   "outputs": [],
   "source": [
    "column_names_reordered = ['Reason_1', 'Reason_2', 'Reason_3', 'Reason_4','Date', 'Transportation Expense', 'Distance to Work', 'Age',\n",
    "       'Daily Work Load Average', 'Body Mass Index', 'Education',\n",
    "       'Children', 'Pets', 'Absenteeism Time in Hours']"
   ]
  },
  {
   "cell_type": "code",
   "execution_count": null,
   "id": "9cd9e3bb",
   "metadata": {},
   "outputs": [],
   "source": [
    "data = data[column_names_reordered]\n",
    "data"
   ]
  },
  {
   "cell_type": "markdown",
   "id": "a3ffecff",
   "metadata": {},
   "source": [
    "#### Creating Checkpoints"
   ]
  },
  {
   "cell_type": "code",
   "execution_count": null,
   "id": "e3d81c27",
   "metadata": {},
   "outputs": [],
   "source": [
    "data_reason_mod = data.copy()\n",
    "data_reason_mod"
   ]
  },
  {
   "cell_type": "markdown",
   "id": "5bc9a375",
   "metadata": {},
   "source": [
    "#### Working on date column"
   ]
  },
  {
   "cell_type": "code",
   "execution_count": null,
   "id": "e6833247",
   "metadata": {},
   "outputs": [],
   "source": [
    "type(data_reason_mod['Date'][0])"
   ]
  },
  {
   "cell_type": "code",
   "execution_count": null,
   "id": "67c2455b",
   "metadata": {},
   "outputs": [],
   "source": [
    "data_reason_mod['Date'] = pd.to_datetime(data_reason_mod['Date'], format = '%d/%m/%Y' )\n",
    "data_reason_mod['Date']"
   ]
  },
  {
   "cell_type": "markdown",
   "id": "a9862ed8",
   "metadata": {},
   "source": [
    "#### Extracting Month Value:"
   ]
  },
  {
   "cell_type": "code",
   "execution_count": null,
   "id": "96c4c6f1",
   "metadata": {},
   "outputs": [],
   "source": [
    "data_reason_mod['Date'][0]"
   ]
  },
  {
   "cell_type": "code",
   "execution_count": null,
   "id": "b00b3725",
   "metadata": {},
   "outputs": [],
   "source": [
    "data_reason_mod['Date'][0].month"
   ]
  },
  {
   "cell_type": "code",
   "execution_count": null,
   "id": "bb064b5f",
   "metadata": {},
   "outputs": [],
   "source": [
    "list_months = []"
   ]
  },
  {
   "cell_type": "code",
   "execution_count": null,
   "id": "644ab883",
   "metadata": {},
   "outputs": [],
   "source": [
    "for i in range(data_reason_mod.shape[0]):\n",
    "    list_months.append(data_reason_mod['Date'][i].month)"
   ]
  },
  {
   "cell_type": "code",
   "execution_count": null,
   "id": "65f5b5b2",
   "metadata": {},
   "outputs": [],
   "source": [
    "list_months"
   ]
  },
  {
   "cell_type": "code",
   "execution_count": null,
   "id": "f7772757",
   "metadata": {},
   "outputs": [],
   "source": [
    "len(list_months)"
   ]
  },
  {
   "cell_type": "code",
   "execution_count": null,
   "id": "093ca235",
   "metadata": {},
   "outputs": [],
   "source": [
    "data_reason_mod['Month Value'] = list_months"
   ]
  },
  {
   "cell_type": "code",
   "execution_count": null,
   "id": "0db30f44",
   "metadata": {},
   "outputs": [],
   "source": [
    "data_reason_mod.head(10)"
   ]
  },
  {
   "cell_type": "markdown",
   "id": "ea85e353",
   "metadata": {},
   "source": [
    "#### Extract Day of the Week:"
   ]
  },
  {
   "cell_type": "code",
   "execution_count": null,
   "id": "461de70c",
   "metadata": {},
   "outputs": [],
   "source": [
    "data_reason_mod['Date'][699].weekday()"
   ]
  },
  {
   "cell_type": "code",
   "execution_count": null,
   "id": "80952ce9",
   "metadata": {},
   "outputs": [],
   "source": [
    "data_reason_mod['Date'][699]"
   ]
  },
  {
   "cell_type": "code",
   "execution_count": null,
   "id": "c6bc18fd",
   "metadata": {},
   "outputs": [],
   "source": [
    "def date_to_weekday(date_value):\n",
    "    return date_value.weekday()"
   ]
  },
  {
   "cell_type": "code",
   "execution_count": null,
   "id": "0c98a9e4",
   "metadata": {},
   "outputs": [],
   "source": [
    "data_reason_mod['Day of the week'] = data_reason_mod['Date'].apply(date_to_weekday)"
   ]
  },
  {
   "cell_type": "code",
   "execution_count": null,
   "id": "0c074357",
   "metadata": {},
   "outputs": [],
   "source": [
    "data_reason_mod.head(10)"
   ]
  },
  {
   "cell_type": "markdown",
   "id": "50e730fb",
   "metadata": {},
   "source": [
    "#### Drop Date Column"
   ]
  },
  {
   "cell_type": "code",
   "execution_count": null,
   "id": "bb2086fa",
   "metadata": {},
   "outputs": [],
   "source": [
    "data_reason_mod = data_reason_mod.drop(['Date'], axis = 1)\n",
    "data_reason_mod"
   ]
  },
  {
   "cell_type": "code",
   "execution_count": null,
   "id": "afd664d8",
   "metadata": {},
   "outputs": [],
   "source": [
    "data_reason_mod['Education'].unique()"
   ]
  },
  {
   "cell_type": "code",
   "execution_count": null,
   "id": "aa2b7a55",
   "metadata": {},
   "outputs": [],
   "source": [
    "data_reason_mod['Education'].value_counts()"
   ]
  },
  {
   "cell_type": "code",
   "execution_count": null,
   "id": "1f56903a",
   "metadata": {},
   "outputs": [],
   "source": [
    "data_reason_mod['Education'] = data_reason_mod['Education'].map({1:0, 2:1, 3:1, 4:1}) "
   ]
  },
  {
   "cell_type": "code",
   "execution_count": null,
   "id": "2d44c8f7",
   "metadata": {},
   "outputs": [],
   "source": [
    "data_reason_mod['Education'].unique()"
   ]
  },
  {
   "cell_type": "code",
   "execution_count": null,
   "id": "320cbfdd",
   "metadata": {},
   "outputs": [],
   "source": [
    "data_reason_mod['Education'].value_counts()"
   ]
  },
  {
   "cell_type": "code",
   "execution_count": null,
   "id": "5f6ad4c7",
   "metadata": {},
   "outputs": [],
   "source": [
    "type(data_reason_mod['Transportation Expense'][0])"
   ]
  },
  {
   "cell_type": "code",
   "execution_count": null,
   "id": "fafa3de8",
   "metadata": {},
   "outputs": [],
   "source": [
    "type(data_reason_mod['Distance to Work'][0])"
   ]
  },
  {
   "cell_type": "code",
   "execution_count": null,
   "id": "9ad18189",
   "metadata": {},
   "outputs": [],
   "source": [
    "type(data_reason_mod['Age'][0])"
   ]
  },
  {
   "cell_type": "code",
   "execution_count": null,
   "id": "ccf08309",
   "metadata": {},
   "outputs": [],
   "source": [
    "type(data_reason_mod['Daily Work Load Average'][0])"
   ]
  },
  {
   "cell_type": "code",
   "execution_count": null,
   "id": "c934961c",
   "metadata": {},
   "outputs": [],
   "source": [
    "type(data_reason_mod['Body Mass Index'][0])"
   ]
  },
  {
   "cell_type": "markdown",
   "id": "931e8c98",
   "metadata": {},
   "source": [
    "#### FInal Checkpoint"
   ]
  },
  {
   "cell_type": "code",
   "execution_count": null,
   "id": "02610f92",
   "metadata": {},
   "outputs": [],
   "source": [
    "data_preprocessed = data_reason_mod.copy()\n",
    "data_preprocessed"
   ]
  },
  {
   "cell_type": "markdown",
   "id": "3ca3a81c",
   "metadata": {},
   "source": [
    "#### Exportind data to .csv file"
   ]
  },
  {
   "cell_type": "code",
   "execution_count": null,
   "id": "c3a93b56",
   "metadata": {},
   "outputs": [],
   "source": [
    "data_preprocessed.to_csv('Absenteeism_preprocessed.csv', index = False)"
   ]
  },
  {
   "cell_type": "code",
   "execution_count": null,
   "id": "98837c1f",
   "metadata": {},
   "outputs": [],
   "source": []
  }
 ],
 "metadata": {
  "kernelspec": {
   "display_name": "Python 3 (ipykernel)",
   "language": "python",
   "name": "python3"
  },
  "language_info": {
   "codemirror_mode": {
    "name": "ipython",
    "version": 3
   },
   "file_extension": ".py",
   "mimetype": "text/x-python",
   "name": "python",
   "nbconvert_exporter": "python",
   "pygments_lexer": "ipython3",
   "version": "3.11.5"
  }
 },
 "nbformat": 4,
 "nbformat_minor": 5
}
